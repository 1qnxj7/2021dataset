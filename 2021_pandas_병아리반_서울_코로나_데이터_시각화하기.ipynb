{
  "nbformat": 4,
  "nbformat_minor": 0,
  "metadata": {
    "colab": {
      "name": "2021 pandas 병아리반 - 서울 코로나 데이터 시각화하기.ipynb",
      "provenance": [],
      "collapsed_sections": [],
      "authorship_tag": "ABX9TyO+HkL5qJfjcTys9vHu2Ui7",
      "include_colab_link": true
    },
    "kernelspec": {
      "name": "python3",
      "display_name": "Python 3"
    }
  },
  "cells": [
    {
      "cell_type": "markdown",
      "metadata": {
        "id": "view-in-github",
        "colab_type": "text"
      },
      "source": [
        "<a href=\"https://colab.research.google.com/github/greatsong/2021dataset/blob/master/2021_pandas_%EB%B3%91%EC%95%84%EB%A6%AC%EB%B0%98_%EC%84%9C%EC%9A%B8_%EC%BD%94%EB%A1%9C%EB%82%98_%EB%8D%B0%EC%9D%B4%ED%84%B0_%EC%8B%9C%EA%B0%81%ED%99%94%ED%95%98%EA%B8%B0.ipynb\" target=\"_parent\"><img src=\"https://colab.research.google.com/assets/colab-badge.svg\" alt=\"Open In Colab\"/></a>"
      ]
    },
    {
      "cell_type": "markdown",
      "metadata": {
        "id": "Ji9CL9R-qhL6"
      },
      "source": [
        "### 준비1 - 딕셔너리 : 키와 값이 한 쌍을 이루는 데이터. 단, 키(key)는 유일해야 함."
      ]
    },
    {
      "cell_type": "code",
      "metadata": {
        "id": "fts3VIhZqYji"
      },
      "source": [
        "menu = {'짜장면':4500, '짬뽕':5000, '탕수육':12000}"
      ],
      "execution_count": null,
      "outputs": []
    },
    {
      "cell_type": "code",
      "metadata": {
        "id": "9xwLkI0_qjxD"
      },
      "source": [
        "menu['짜장면']"
      ],
      "execution_count": null,
      "outputs": []
    },
    {
      "cell_type": "code",
      "metadata": {
        "id": "slwqlExGqjz8"
      },
      "source": [
        "name = '짜장면'\n",
        "print(menu[name])"
      ],
      "execution_count": null,
      "outputs": []
    },
    {
      "cell_type": "code",
      "metadata": {
        "id": "gpPxfyJZqj3C"
      },
      "source": [
        "name = input('먹고 싶은 메뉴를 골라주세요 : ')\n",
        "print(menu[name],'원입니다.')"
      ],
      "execution_count": null,
      "outputs": []
    },
    {
      "cell_type": "markdown",
      "metadata": {
        "id": "b3BLDojzq0pl"
      },
      "source": [
        "### 준비2 - 그래프에 한글 사용하기"
      ]
    },
    {
      "cell_type": "code",
      "metadata": {
        "id": "Bpj6hbhOj9KB"
      },
      "source": [
        "# 한글 폰트 설치하기\n",
        "!apt -qq -y install fonts-nanum"
      ],
      "execution_count": null,
      "outputs": []
    },
    {
      "cell_type": "code",
      "metadata": {
        "id": "ZRBtnNuIkIBk"
      },
      "source": [
        "# 폰트 세팅\n",
        "import matplotlib.pyplot as plt\n",
        "import matplotlib.font_manager as fm\n",
        "\n",
        "fontpath = '/usr/share/fonts/truetype/nanum/NanumGothic.ttf'\n",
        "font = fm.FontProperties(fname=fontpath, size=10)\n",
        "fm._rebuild()"
      ],
      "execution_count": null,
      "outputs": []
    },
    {
      "cell_type": "code",
      "metadata": {
        "id": "6yDFoHgkkLhu"
      },
      "source": [
        "# 위 코드 실행 후 [메뉴] - [런타임] - [런타임 다시 시작] - [예]\n",
        "import matplotlib.pyplot as plt\n",
        "plt.rc('font', family='NanumGothic') \n",
        "plt.title('한글 제목!!')\n",
        "plt.plot([1,2,3,5,4])\n",
        "plt.show()"
      ],
      "execution_count": null,
      "outputs": []
    },
    {
      "cell_type": "markdown",
      "metadata": {
        "id": "R4IkKVTcrQei"
      },
      "source": [
        "### 준비3 - 오픈소스의 성지 깃허브 계정 만들기"
      ]
    },
    {
      "cell_type": "markdown",
      "metadata": {
        "id": "NzpxRueyrXUW"
      },
      "source": [
        "https://github.com/greatsong/2020dataset"
      ]
    },
    {
      "cell_type": "markdown",
      "metadata": {
        "id": "egkf3COcqrOJ"
      },
      "source": [
        "### 준비4 - 코로나19 공공데이터 수집하고 깃허브에 파일 업로드하기\n",
        "\n"
      ]
    },
    {
      "cell_type": "markdown",
      "metadata": {
        "id": "4Dm1N8JDqtxs"
      },
      "source": [
        "https://data.seoul.go.kr/index.do"
      ]
    },
    {
      "cell_type": "markdown",
      "metadata": {
        "id": "IKGny89Kr2nr"
      },
      "source": [
        "### 본론 - 코로나19 데이터 판다스로 처리하기"
      ]
    },
    {
      "cell_type": "code",
      "metadata": {
        "id": "0lBzUyjYiIjJ"
      },
      "source": [
        "# 데이터 불러오기\n",
        "!git clone https://github.com/greatsong/2020dataset"
      ],
      "execution_count": null,
      "outputs": []
    },
    {
      "cell_type": "code",
      "metadata": {
        "id": "N3J9jUMNiLI9"
      },
      "source": [
        "cd 2020dataset"
      ],
      "execution_count": null,
      "outputs": []
    },
    {
      "cell_type": "code",
      "metadata": {
        "id": "prSrZVA5iMX9"
      },
      "source": [
        "ls"
      ],
      "execution_count": null,
      "outputs": []
    },
    {
      "cell_type": "code",
      "metadata": {
        "id": "-EaKyewCiMnT"
      },
      "source": [
        "# 판다스 라이브러리 불러오기\n",
        "import pandas as pd"
      ],
      "execution_count": null,
      "outputs": []
    },
    {
      "cell_type": "code",
      "metadata": {
        "id": "-fJEQHJniiXJ"
      },
      "source": [
        "# 데이터 불러오기\n",
        "df = pd.read_csv('corona19.csv', encoding = 'cp949')\n",
        "# 데이터 확인\n",
        "df.head()"
      ],
      "execution_count": null,
      "outputs": []
    },
    {
      "cell_type": "code",
      "metadata": {
        "id": "0_jmjKXoiopT"
      },
      "source": [
        "# 데이터 정보 확인\n",
        "df.info()"
      ],
      "execution_count": null,
      "outputs": []
    },
    {
      "cell_type": "code",
      "metadata": {
        "id": "8FJ7zBg1iwDm"
      },
      "source": [
        "# 데이터 통계 정보 확인\n",
        "df.describe()"
      ],
      "execution_count": null,
      "outputs": []
    },
    {
      "cell_type": "code",
      "metadata": {
        "id": "TjaYDMgGi_Vn"
      },
      "source": [
        "# 확진일 열만 확인\n",
        "df['확진일']"
      ],
      "execution_count": null,
      "outputs": []
    },
    {
      "cell_type": "code",
      "metadata": {
        "id": "8xN2570CjJbQ"
      },
      "source": [
        "# 확진일 열 카운팅\n",
        "df['확진일'].value_counts()"
      ],
      "execution_count": null,
      "outputs": []
    },
    {
      "cell_type": "code",
      "metadata": {
        "id": "oIhhKQ4jjPXS"
      },
      "source": [
        "# 확진일 열 일자별 카운팅1\n",
        "df['확진일'].value_counts().sort_index()"
      ],
      "execution_count": null,
      "outputs": []
    },
    {
      "cell_type": "code",
      "metadata": {
        "id": "n9o3CmGSjllY"
      },
      "source": [
        "# 확진일 일자별 카운팅 시각화\n",
        "df['확진일'].value_counts().sort_index().plot()"
      ],
      "execution_count": null,
      "outputs": []
    },
    {
      "cell_type": "code",
      "metadata": {
        "id": "PRaQIsSfjxmb"
      },
      "source": [
        "# 접촉력 카운팅\n",
        "df['접촉력'].value_counts()"
      ],
      "execution_count": null,
      "outputs": []
    },
    {
      "cell_type": "code",
      "metadata": {
        "id": "Bfouc3Olj1pN"
      },
      "source": [
        "# 접촉력 Top 10 시각화\n",
        "df['접촉력'].value_counts()[:10].plot.bar()"
      ],
      "execution_count": null,
      "outputs": []
    }
  ]
}