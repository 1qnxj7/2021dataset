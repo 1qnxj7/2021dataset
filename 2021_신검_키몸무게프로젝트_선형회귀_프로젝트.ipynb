{
  "nbformat": 4,
  "nbformat_minor": 0,
  "metadata": {
    "colab": {
      "name": "2021_신검_키몸무게프로젝트_선형회귀_프로젝트.ipynb",
      "provenance": [],
      "collapsed_sections": [],
      "include_colab_link": true
    },
    "kernelspec": {
      "display_name": "Python 3",
      "language": "python",
      "name": "python3"
    },
    "language_info": {
      "codemirror_mode": {
        "name": "ipython",
        "version": 3
      },
      "file_extension": ".py",
      "mimetype": "text/x-python",
      "name": "python",
      "nbconvert_exporter": "python",
      "pygments_lexer": "ipython3",
      "version": "3.7.4"
    }
  },
  "cells": [
    {
      "cell_type": "markdown",
      "metadata": {
        "id": "view-in-github",
        "colab_type": "text"
      },
      "source": [
        "<a href=\"https://colab.research.google.com/github/greatsong/2021dataset/blob/master/2021_%EC%8B%A0%EA%B2%80_%ED%82%A4%EB%AA%B8%EB%AC%B4%EA%B2%8C%ED%94%84%EB%A1%9C%EC%A0%9D%ED%8A%B8_%EC%84%A0%ED%98%95%ED%9A%8C%EA%B7%80_%ED%94%84%EB%A1%9C%EC%A0%9D%ED%8A%B8.ipynb\" target=\"_parent\"><img src=\"https://colab.research.google.com/assets/colab-badge.svg\" alt=\"Open In Colab\"/></a>"
      ]
    },
    {
      "cell_type": "markdown",
      "metadata": {
        "id": "m64evH7tP1q2"
      },
      "source": [
        "### 1. 데이터 수집 - 국방부 공공 데이터\n",
        "- 국방부에서 제공하는 신체검사 데이터를 수집합니다.  \n",
        "http://opendata.mnd.go.kr/openinf/sheetview2.jsp?infId=OA-9425\n",
        "- 판다스로 데이터를 불러오겠습니다.\n",
        "- 인코딩 문제가 있어서 인코딩 파라미터를 cp949로 주었습니다."
      ]
    },
    {
      "cell_type": "code",
      "metadata": {
        "id": "ixTretitpTpq"
      },
      "source": [
        "!git clone https://github.com/greatsong/2021dataset"
      ],
      "execution_count": null,
      "outputs": []
    },
    {
      "cell_type": "code",
      "metadata": {
        "id": "bTfaLFxj0_Ue"
      },
      "source": [
        "cd 2021dataset"
      ],
      "execution_count": null,
      "outputs": []
    },
    {
      "cell_type": "code",
      "metadata": {
        "id": "M2m3pnyvP1q3"
      },
      "source": [
        "import pandas as pd\n",
        "\n",
        "df = pd.read_csv('신검데이터.csv', encoding='cp949')\n",
        "df"
      ],
      "execution_count": null,
      "outputs": []
    },
    {
      "cell_type": "markdown",
      "metadata": {
        "id": "28uQj5PrP1q5"
      },
      "source": [
        "- cm, kg 등의 단위가 붙어있는 경우가 있어서 삭제한 버전을 다시 만들었습니다.\n",
        "- 수정된 데이터를 다시 불러옵니다."
      ]
    },
    {
      "cell_type": "code",
      "metadata": {
        "id": "FeyrYTZwP1q6"
      },
      "source": [
        "import pandas as pd\n",
        "\n",
        "df = pd.read_csv('신검데이터m.csv')\n",
        "df"
      ],
      "execution_count": null,
      "outputs": []
    },
    {
      "cell_type": "markdown",
      "metadata": {
        "id": "xnQe-DawP1q8"
      },
      "source": [
        "### 2. 데이터 살펴보기  \n",
        "- 데이터를 살펴보겠습니다.\n",
        "- 키를 x, 몸무게를 y에 저장합니다."
      ]
    },
    {
      "cell_type": "code",
      "metadata": {
        "id": "SFZc1F4UP1q9"
      },
      "source": [
        "x = df['신장 센티미터']\n",
        "y = df['몸무게 킬로그램']"
      ],
      "execution_count": null,
      "outputs": []
    },
    {
      "cell_type": "markdown",
      "metadata": {
        "id": "08kyZgPEP1rA"
      },
      "source": [
        "- 스캐터 함수로 상관관계를 살펴보겠습니다."
      ]
    },
    {
      "cell_type": "code",
      "metadata": {
        "id": "s9DXpZUIP1rB"
      },
      "source": [
        "import matplotlib.pyplot as plt\n",
        "plt.scatter(x, y)\n",
        "plt.show()"
      ],
      "execution_count": null,
      "outputs": []
    },
    {
      "cell_type": "markdown",
      "metadata": {
        "id": "GNXK5BcaP1rE"
      },
      "source": [
        "- y축이 몸무게인데 0인 값들이 보이는 것 같습니다.\n",
        "- 확인해보겠습니다."
      ]
    },
    {
      "cell_type": "code",
      "metadata": {
        "id": "hHzbYoEJP1rE"
      },
      "source": [
        "df[df['몸무게 킬로그램'] < 10]"
      ],
      "execution_count": null,
      "outputs": []
    },
    {
      "cell_type": "markdown",
      "metadata": {
        "id": "aP0YZuNRP1rH"
      },
      "source": [
        "- 진짜 0인 값들이 꽤 있습니다.2016년 9월 23일에 무슨 오류가 있었나봅니다.\n",
        "- 전체 데이터가 17만건 가까이 되니까 몸무게가 0인 데이터를 삭제하겠습니다."
      ]
    },
    {
      "cell_type": "code",
      "metadata": {
        "id": "FZ43ZCZcP1rH"
      },
      "source": [
        "idx = df[df['몸무게 킬로그램'] == 0.0].index\n",
        "idx"
      ],
      "execution_count": null,
      "outputs": []
    },
    {
      "cell_type": "markdown",
      "metadata": {
        "id": "IF7bPOZcP1rM"
      },
      "source": [
        "- 167983에서 167957로 일부 데이터가 삭제된 것을 볼 수 있습니다."
      ]
    },
    {
      "cell_type": "code",
      "metadata": {
        "id": "0quvV9Gok87n"
      },
      "source": [
        "df = df.drop(idx)"
      ],
      "execution_count": null,
      "outputs": []
    },
    {
      "cell_type": "code",
      "metadata": {
        "id": "nN6VsG9yP1rM"
      },
      "source": [
        "df.shape"
      ],
      "execution_count": null,
      "outputs": []
    },
    {
      "cell_type": "markdown",
      "metadata": {
        "id": "tpaqYzODP1rP"
      },
      "source": [
        "- 다른 데이터를 살펴보면 가슴 둘레, 머리 둘레에 일부 비어있는 값이 있지만 신장과 몸무게는 이상이 없으므로 넘어갑니다."
      ]
    },
    {
      "cell_type": "code",
      "metadata": {
        "id": "DnkZgAO0P1rP"
      },
      "source": [
        "df.info()"
      ],
      "execution_count": null,
      "outputs": []
    },
    {
      "cell_type": "markdown",
      "metadata": {
        "id": "n10B-8wbP1rR"
      },
      "source": [
        "- x와 y에 키와 몸무게 값을 다시 저장합니다.\n",
        "- (TMI : 굳이 이렇게하는 이유는 판다스의 시리즈에 인덱스가 있어서 오류가 나기 때문입니다.)"
      ]
    },
    {
      "cell_type": "code",
      "metadata": {
        "id": "FqT2nsNqP1rS"
      },
      "source": [
        "x = df['신장 센티미터'].values\n",
        "y = df['몸무게 킬로그램'].values"
      ],
      "execution_count": null,
      "outputs": []
    },
    {
      "cell_type": "code",
      "metadata": {
        "id": "gpGGDRDxP1rU"
      },
      "source": [
        "x.shape"
      ],
      "execution_count": null,
      "outputs": []
    },
    {
      "cell_type": "code",
      "metadata": {
        "id": "N0TQHX1xP1rW"
      },
      "source": [
        "y.shape"
      ],
      "execution_count": null,
      "outputs": []
    },
    {
      "cell_type": "markdown",
      "metadata": {
        "id": "sKZZqEapP1rY"
      },
      "source": [
        "- x와 y에 값만 잘 저장된 것을 확인할 수 있습니다."
      ]
    },
    {
      "cell_type": "code",
      "metadata": {
        "id": "t33uPsm0P1rY"
      },
      "source": [
        "x.shape"
      ],
      "execution_count": null,
      "outputs": []
    },
    {
      "cell_type": "code",
      "metadata": {
        "id": "oYhpAUia1_SW"
      },
      "source": [
        "x = x.reshape((-1, 1))"
      ],
      "execution_count": null,
      "outputs": []
    },
    {
      "cell_type": "code",
      "metadata": {
        "id": "lmlPEU_ZP1ra"
      },
      "source": [
        "y"
      ],
      "execution_count": null,
      "outputs": []
    },
    {
      "cell_type": "markdown",
      "metadata": {
        "id": "tP-ILx4qP1rc"
      },
      "source": [
        "- 이상값이 잘 지워졌는지 스캐터 함수를 다시 확인해보겠습니다."
      ]
    },
    {
      "cell_type": "code",
      "metadata": {
        "id": "g8DOAyJTP1rc"
      },
      "source": [
        "import matplotlib.pyplot as plt\n",
        "plt.scatter(x, y)\n",
        "plt.show()"
      ],
      "execution_count": null,
      "outputs": []
    },
    {
      "cell_type": "markdown",
      "metadata": {
        "id": "t2kS7bvSP1rf"
      },
      "source": [
        "- 좋습니다. 그런데 다시 보니 생각보다 120킬로그램이 넘는 사람이 참 많군요?ㅎㅎ\n",
        "- 히스토그램도 확인해보겠습니다."
      ]
    },
    {
      "cell_type": "code",
      "metadata": {
        "id": "3TPyqEnWP1rf"
      },
      "source": [
        "import matplotlib.pyplot as plt\n",
        "plt.hist(x, bins = 100)\n",
        "plt.show()"
      ],
      "execution_count": null,
      "outputs": []
    },
    {
      "cell_type": "code",
      "metadata": {
        "id": "GUQFvQUlP1rj"
      },
      "source": [
        "import matplotlib.pyplot as plt\n",
        "plt.hist(y, bins = 100)\n",
        "plt.show()"
      ],
      "execution_count": null,
      "outputs": []
    },
    {
      "cell_type": "markdown",
      "metadata": {
        "id": "wUyxUpe0P1rl"
      },
      "source": [
        "- 키는 정확히 정규분포를 이루고 있고, 몸무게는 조금 비대칭인 것을 볼 수 있네요.\n",
        "- 이어서 박스플랏을 그려서 다시 분포를 살펴보겠습니다."
      ]
    },
    {
      "cell_type": "code",
      "metadata": {
        "id": "WwwCAFrVP1rl"
      },
      "source": [
        "plt.boxplot(x)\n",
        "plt.show()"
      ],
      "execution_count": null,
      "outputs": []
    },
    {
      "cell_type": "code",
      "metadata": {
        "id": "ZXjHsJySP1ro"
      },
      "source": [
        "plt.boxplot(y)\n",
        "plt.show()"
      ],
      "execution_count": null,
      "outputs": []
    },
    {
      "cell_type": "markdown",
      "metadata": {
        "id": "dk4E5QF7P1rq"
      },
      "source": [
        "- 키는 175정도가 중위값이고, 몸무게는 70 정도가 중위값인 것 같아보입니다.\n",
        "- 자 데이터는 전반적으로 잘 살펴보았으니 이제 본격적으로 w와 b값을 찾아보겠습니다."
      ]
    },
    {
      "cell_type": "code",
      "metadata": {
        "id": "n48QlVarRV9U"
      },
      "source": [
        "# 몸무게 = (키 - 100) * 0.9\n",
        "# 몸무게 = 키 * 0.9 - 90\n",
        "w = 0.9\n",
        "b = -90"
      ],
      "execution_count": null,
      "outputs": []
    },
    {
      "cell_type": "markdown",
      "metadata": {
        "id": "eZwy9WSwP1rs"
      },
      "source": [
        "- 일반적으로 키에서 100을 뺀 후, 거기에서 0.9를 곱하면 된다는 이야기 들어보셨나요?\n",
        "- 그 식을 전개하면 w가 0.9, b가 -90이 나오네요.\n",
        "- 이 식으로 예측선을 그려보겠습니다."
      ]
    },
    {
      "cell_type": "code",
      "metadata": {
        "id": "7FrH-CU3OtOz"
      },
      "source": [
        "import matplotlib.pyplot as plt\n",
        "plt.scatter(x, y)\n",
        "plt.plot([150, 200], [150 * w + b,200 * w + b], 'g')\n",
        "plt.show()"
      ],
      "execution_count": null,
      "outputs": []
    },
    {
      "cell_type": "code",
      "metadata": {
        "id": "1zLfnXlnP1sW"
      },
      "source": [
        "import matplotlib.pyplot as plt\n",
        "from sklearn.linear_model import LinearRegression\n",
        "\n",
        "model = LinearRegression().fit(x, y)\n",
        "print(model.coef_[0], model.intercept_)"
      ],
      "execution_count": null,
      "outputs": []
    },
    {
      "cell_type": "code",
      "metadata": {
        "id": "KY65u1oR2_jT"
      },
      "source": [
        "y_pred = model.predict(x)\n",
        "\n",
        "plt.scatter(x, y,  color='black')\n",
        "plt.plot(x, y_pred, color='blue')\n",
        "plt.plot(x, x * model.coef_[0] + model.intercept_, color='red')\n",
        "plt.show()"
      ],
      "execution_count": null,
      "outputs": []
    },
    {
      "cell_type": "code",
      "metadata": {
        "id": "NUzPDlLQr8KJ"
      },
      "source": [
        "h = float(input('신검 센터에 오신 것을 환영합니다! :)\\n 키를 입력해주세요 : '))\n",
        "w = float(input('몸무게를 입력해주세요 : '))\n",
        "\n",
        "std = h * model.coef_[0] + model.intercept_\n",
        "print(f'표준 몸무게는 {std}이며 {w-std}kg을 감량하시기 바랍니다.')"
      ],
      "execution_count": null,
      "outputs": []
    },
    {
      "cell_type": "code",
      "metadata": {
        "id": "uQEwna2S3Jpq"
      },
      "source": [
        ""
      ],
      "execution_count": null,
      "outputs": []
    }
  ]
}