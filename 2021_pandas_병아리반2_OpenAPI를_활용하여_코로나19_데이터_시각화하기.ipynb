{
  "nbformat": 4,
  "nbformat_minor": 0,
  "metadata": {
    "colab": {
      "name": "2021 pandas 병아리반2 - OpenAPI를 활용하여 코로나19 데이터 시각화하기.ipynb",
      "provenance": [],
      "authorship_tag": "ABX9TyNeQfKHWQpnTJ0A7Xr9CzCJ",
      "include_colab_link": true
    },
    "kernelspec": {
      "name": "python3",
      "display_name": "Python 3"
    },
    "language_info": {
      "name": "python"
    }
  },
  "cells": [
    {
      "cell_type": "markdown",
      "metadata": {
        "id": "view-in-github",
        "colab_type": "text"
      },
      "source": [
        "<a href=\"https://colab.research.google.com/github/greatsong/2021dataset/blob/master/2021_pandas_%EB%B3%91%EC%95%84%EB%A6%AC%EB%B0%982_OpenAPI%EB%A5%BC_%ED%99%9C%EC%9A%A9%ED%95%98%EC%97%AC_%EC%BD%94%EB%A1%9C%EB%82%9819_%EB%8D%B0%EC%9D%B4%ED%84%B0_%EC%8B%9C%EA%B0%81%ED%99%94%ED%95%98%EA%B8%B0.ipynb\" target=\"_parent\"><img src=\"https://colab.research.google.com/assets/colab-badge.svg\" alt=\"Open In Colab\"/></a>"
      ]
    },
    {
      "cell_type": "code",
      "metadata": {
        "id": "BqozYEUTVg3D"
      },
      "source": [
        "# 한글 폰트 설치하기\n",
        "!apt -qq -y install fonts-nanum"
      ],
      "execution_count": null,
      "outputs": []
    },
    {
      "cell_type": "code",
      "metadata": {
        "id": "1gXyUxt5Vha_"
      },
      "source": [
        "# 폰트 세팅\n",
        "import matplotlib.pyplot as plt\n",
        "import matplotlib.font_manager as fm\n",
        "\n",
        "fontpath = '/usr/share/fonts/truetype/nanum/NanumGothic.ttf'\n",
        "font = fm.FontProperties(fname=fontpath, size=10)\n",
        "fm._rebuild()"
      ],
      "execution_count": null,
      "outputs": []
    },
    {
      "cell_type": "code",
      "metadata": {
        "id": "O8yxFgVkVhdw"
      },
      "source": [
        "# 위 코드 실행 후 [메뉴] - [런타임] - [런타임 다시 시작] - [예]\n",
        "import matplotlib.pyplot as plt\n",
        "plt.rc('font', family='NanumGothic') \n",
        "plt.title('한글 제목!!')\n",
        "plt.plot([1,2,3,5,4])\n",
        "plt.show()"
      ],
      "execution_count": null,
      "outputs": []
    },
    {
      "cell_type": "markdown",
      "metadata": {
        "id": "3A1a6EN_hmKI"
      },
      "source": [
        "### 오픈 API : 인터넷에서 데이터 입력하는 방법!"
      ]
    },
    {
      "cell_type": "markdown",
      "metadata": {
        "id": "sc6TVI9nhr_a"
      },
      "source": [
        "https://data.seoul.go.kr/index.do"
      ]
    },
    {
      "cell_type": "code",
      "metadata": {
        "id": "5dXqpQXwRatw"
      },
      "source": [
        "import requests\n",
        "import pandas as pd"
      ],
      "execution_count": null,
      "outputs": []
    },
    {
      "cell_type": "code",
      "metadata": {
        "id": "KsGJX1e9RgC1"
      },
      "source": [
        "api_key = # 개인이 발급받은 키\n",
        "url = 'http://openapi.seoul.go.kr:8088/'+api_key+'/json/Corona19Status/1/5/'"
      ],
      "execution_count": null,
      "outputs": []
    },
    {
      "cell_type": "code",
      "metadata": {
        "id": "w5HCANkVRgFq"
      },
      "source": [
        "re = requests.get(url)\n",
        "re"
      ],
      "execution_count": null,
      "outputs": []
    },
    {
      "cell_type": "code",
      "metadata": {
        "id": "_Ef_4lBgilrx"
      },
      "source": [
        "result = re.json()\n",
        "result"
      ],
      "execution_count": null,
      "outputs": []
    },
    {
      "cell_type": "code",
      "metadata": {
        "id": "ZiqN97Hyiuuq"
      },
      "source": [
        "result['Corona19Status']"
      ],
      "execution_count": null,
      "outputs": []
    },
    {
      "cell_type": "code",
      "metadata": {
        "id": "KTsj3v5sivKj"
      },
      "source": [
        "result['Corona19Status']['list_total_count']"
      ],
      "execution_count": null,
      "outputs": []
    },
    {
      "cell_type": "code",
      "metadata": {
        "id": "FK11B4uRRgIA"
      },
      "source": [
        "total_num = result['Corona19Status']['list_total_count']"
      ],
      "execution_count": null,
      "outputs": []
    },
    {
      "cell_type": "code",
      "metadata": {
        "id": "muamgwidSG0a"
      },
      "source": [
        "ids = []\n",
        "corona_dates = []\n",
        "address = []\n",
        "corona_contact_detail = []\n",
        "status = []\n",
        "\n",
        "for i in range(total_num // 1000 + 1) :\n",
        "  end = (i+1) * 1000\n",
        "  start = (1000  * i) + 1\n",
        "\n",
        "  if end > total_num : \n",
        "    end = total_num\n",
        "\n",
        "  url = f'http://openapi.seoul.go.kr:8088/{api_key}/json/Corona19Status/{start}/{end}/'\n",
        "  re = requests.get(url)\n",
        "  result = re.json()\n",
        "\n",
        "  for row in result['Corona19Status']['row'] : \n",
        "    ids.append(row['CORONA19_ID'])\n",
        "    corona_dates.append(row['CORONA19_DATE'])\n",
        "    address.append(row['CORONA19_AREA'])\n",
        "    corona_contact_detail.append(row['CORONA19_CONTACT_HISTORY'])\n",
        "    status.append(row['CORONA19_LEAVE_STATUS'])\n",
        "\n",
        "df = pd.DataFrame([ids,corona_dates, address, corona_contact_detail, status])"
      ],
      "execution_count": null,
      "outputs": []
    },
    {
      "cell_type": "code",
      "metadata": {
        "id": "MxlnJfCIj_vG"
      },
      "source": [
        "df.head()"
      ],
      "execution_count": null,
      "outputs": []
    },
    {
      "cell_type": "code",
      "metadata": {
        "id": "ki_0g3uikBPM"
      },
      "source": [
        "df = pd.DataFrame([ids,corona_dates, address, corona_contact_detail, status]).T\n",
        "df.columns = ['NO','확진일','지역','접촉력','현재상태']"
      ],
      "execution_count": null,
      "outputs": []
    },
    {
      "cell_type": "code",
      "metadata": {
        "id": "lOXvYJ8Pj297"
      },
      "source": [
        "df.head()"
      ],
      "execution_count": null,
      "outputs": []
    },
    {
      "cell_type": "code",
      "metadata": {
        "id": "bs5siGCXTgNJ"
      },
      "source": [
        "df.info()"
      ],
      "execution_count": null,
      "outputs": []
    },
    {
      "cell_type": "code",
      "metadata": {
        "id": "skO8oy63TjII"
      },
      "source": [
        "# 데이터 통계 정보 확인\n",
        "df.describe()"
      ],
      "execution_count": null,
      "outputs": []
    },
    {
      "cell_type": "code",
      "metadata": {
        "id": "J7eLz0hHUBPt"
      },
      "source": [
        "# 확진일 열만 확인\n",
        "df['확진일']"
      ],
      "execution_count": null,
      "outputs": []
    },
    {
      "cell_type": "code",
      "metadata": {
        "id": "h65RtUWyVEqD"
      },
      "source": [
        "# 확진일 열 카운팅\n",
        "df['확진일'].value_counts()"
      ],
      "execution_count": null,
      "outputs": []
    },
    {
      "cell_type": "code",
      "metadata": {
        "id": "wzBt49cjVFfb"
      },
      "source": [
        "# 확진일 열 일자별 카운팅1\n",
        "df['확진일'].value_counts().sort_index()"
      ],
      "execution_count": null,
      "outputs": []
    },
    {
      "cell_type": "code",
      "metadata": {
        "id": "DZXI2m3HVGcU"
      },
      "source": [
        "# 확진일 일자별 카운팅 시각화\n",
        "df['확진일'].value_counts().sort_index().plot()"
      ],
      "execution_count": null,
      "outputs": []
    },
    {
      "cell_type": "code",
      "metadata": {
        "id": "R6EcRZ0HVQqp"
      },
      "source": [
        "# 확진일 일자별 카운팅 시각화\n",
        "df['확진일'].value_counts().sort_index().plot.bar()"
      ],
      "execution_count": null,
      "outputs": []
    },
    {
      "cell_type": "code",
      "metadata": {
        "id": "QZoIfpwQVUUa"
      },
      "source": [
        "# 접촉력 카운팅\n",
        "df['접촉력'].value_counts()"
      ],
      "execution_count": null,
      "outputs": []
    },
    {
      "cell_type": "code",
      "metadata": {
        "id": "5GoSAGohVbGx"
      },
      "source": [
        "# 접촉력 Top 10 시각화\n",
        "df['접촉력'].value_counts()[:10].plot.bar()"
      ],
      "execution_count": null,
      "outputs": []
    },
    {
      "cell_type": "code",
      "metadata": {
        "id": "0Ky1AtLIjZyb"
      },
      "source": [
        "# 접촉력 Top 10 시각화\n",
        "df['접촉력'].value_counts()[3:13].plot.bar()"
      ],
      "execution_count": null,
      "outputs": []
    },
    {
      "cell_type": "code",
      "metadata": {
        "id": "K-YMPbwSVdvR"
      },
      "source": [
        "# 확진 자치구 Top 10 시각화\n",
        "df['지역'].value_counts()[:10].plot.bar()"
      ],
      "execution_count": null,
      "outputs": []
    },
    {
      "cell_type": "code",
      "metadata": {
        "id": "vSZlqT-sV4gh"
      },
      "source": [
        "# 2020년 8월 13일부터 확진 자치구 Top 10 시각화\n",
        "df[df['확진일']>='2020-08-13']['지역'].value_counts()[:10].plot.bar()"
      ],
      "execution_count": null,
      "outputs": []
    },
    {
      "cell_type": "code",
      "metadata": {
        "id": "qqk9kfmQV5yI"
      },
      "source": [
        "# 2020년 8월 13일 이전 확진 자치구 Top 10 시각화\n",
        "df[df['확진일']<'2020-08-13']['지역'].value_counts()[:10].plot.bar()"
      ],
      "execution_count": null,
      "outputs": []
    },
    {
      "cell_type": "code",
      "metadata": {
        "id": "dCw6L-sHd-55"
      },
      "source": [
        "df[(df['확진일']<'2021-03-31') | (df['확진일'] > '2020-07-31')]['지역'].value_counts()[:10]"
      ],
      "execution_count": null,
      "outputs": []
    },
    {
      "cell_type": "code",
      "metadata": {
        "id": "YrwqdNp_V7zr"
      },
      "source": [
        "a = df[(df['확진일']<'2021-03-31') | (df['확진일'] > '2020-07-31')]['지역'].value_counts()[:10] / [673000,1000000,585000,544000,1000000,509000,399000,484000,527000,401000]"
      ],
      "execution_count": null,
      "outputs": []
    },
    {
      "cell_type": "code",
      "metadata": {
        "id": "Ks-J5rPvaf0S"
      },
      "source": [
        "a.sort_values(ascending = False).plot.bar()"
      ],
      "execution_count": null,
      "outputs": []
    },
    {
      "cell_type": "code",
      "metadata": {
        "id": "Nn8oPreIdbha"
      },
      "source": [
        ""
      ],
      "execution_count": null,
      "outputs": []
    }
  ]
}